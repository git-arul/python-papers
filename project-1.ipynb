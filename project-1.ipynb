{
 "cells": [
  {
   "cell_type": "code",
   "execution_count": 10,
   "id": "8a9d9a86",
   "metadata": {},
   "outputs": [],
   "source": [
    "def display_board(user_data):\n",
    "    y = user_data\n",
    "    print(y[1] + '|' + y[2] + '|' + y[3])\n",
    "    print('------')\n",
    "    print(y[4] + '|' + y[5] + '|' + y[6])\n",
    "    print('------')\n",
    "    print(y[7] + '|' + y[8] + '|' + y[9])\n",
    "    "
   ]
  },
  {
   "cell_type": "code",
   "execution_count": 11,
   "id": "c84aceac",
   "metadata": {},
   "outputs": [
    {
     "name": "stdout",
     "output_type": "stream",
     "text": [
      " | | \n",
      "------\n",
      " | | \n",
      "------\n",
      " | | \n"
     ]
    }
   ],
   "source": [
    "user_data = ['#',' ',' ',' ',' ',' ',' ',' ',' ',' ']\n",
    "display_board(user_data)\n",
    "\n"
   ]
  },
  {
   "cell_type": "code",
   "execution_count": 12,
   "id": "48a46479",
   "metadata": {},
   "outputs": [],
   "source": [
    "def player_input():\n",
    "    marker = ''\n",
    "    while marker!= 'x' and marker != 'o':\n",
    "        marker = input(\"player 1 choose 'x' or 'o' : \")\n",
    "        \n",
    "        player1 = marker \n",
    "        if player1 == 'x':\n",
    "            player2 = '0'\n",
    "        else:\n",
    "            player2 = 'x'\n",
    "            \n",
    "            \n",
    "    return(player1, player2) \n"
   ]
  },
  {
   "cell_type": "code",
   "execution_count": 13,
   "id": "12f93e17",
   "metadata": {},
   "outputs": [
    {
     "name": "stdout",
     "output_type": "stream",
     "text": [
      "player 1 choose 'x' or 'o' : \n",
      "player 1 choose 'x' or 'o' : x\n"
     ]
    }
   ],
   "source": [
    "player1_marker, player2_marker = player_input()\n",
    "\n",
    "\n",
    "\n"
   ]
  },
  {
   "cell_type": "code",
   "execution_count": 14,
   "id": "5186a66a",
   "metadata": {},
   "outputs": [
    {
     "data": {
      "text/plain": [
       "'x'"
      ]
     },
     "execution_count": 14,
     "metadata": {},
     "output_type": "execute_result"
    }
   ],
   "source": [
    "\n",
    "player1_marker\n",
    "\n"
   ]
  },
  {
   "cell_type": "code",
   "execution_count": 15,
   "id": "aaa685b0",
   "metadata": {},
   "outputs": [
    {
     "data": {
      "text/plain": [
       "'0'"
      ]
     },
     "execution_count": 15,
     "metadata": {},
     "output_type": "execute_result"
    }
   ],
   "source": [
    "player2_marker\n"
   ]
  },
  {
   "cell_type": "code",
   "execution_count": 16,
   "id": "fc1e8035",
   "metadata": {},
   "outputs": [],
   "source": [
    "def player_choice():\n",
    "    choice = 'wrong'\n",
    "    within_range = False\n",
    "    \n",
    "    while choice.isdigit() == False or within_range == False:\n",
    "        choice = input(\"enter the number between 0 to 9  : \")\n",
    "        \n",
    "        if choice.isdigit() == False:\n",
    "            print(\"Enetered value is not the number kindly enter the Numeric value : \")\n",
    "        if choice.isdigit() == True:\n",
    "            if int(choice) in range(1,10):\n",
    "                within_range = True\n",
    "            else:\n",
    "                within_range = False\n",
    "                               \n",
    "    return int(choice)        \n",
    "                \n",
    "    "
   ]
  },
  {
   "cell_type": "code",
   "execution_count": 17,
   "id": "fcd9196e",
   "metadata": {},
   "outputs": [
    {
     "name": "stdout",
     "output_type": "stream",
     "text": [
      "enter the number between 0 to 9  : 6\n"
     ]
    },
    {
     "data": {
      "text/plain": [
       "6"
      ]
     },
     "execution_count": 17,
     "metadata": {},
     "output_type": "execute_result"
    }
   ],
   "source": [
    "player_choice()\n"
   ]
  },
  {
   "cell_type": "code",
   "execution_count": 78,
   "id": "f0cf75fa",
   "metadata": {},
   "outputs": [],
   "source": [
    "def place_marker(board,marker,position):\n",
    "    \n",
    "    \n",
    "#     b = board\n",
    "#     c = position\n",
    "#     b[c] = marker\n",
    "#     i = 0\n",
    "#     x = []\n",
    "#     o = []\n",
    "#     z = [1,2,3]\n",
    "#     status = ''\n",
    "#     for d in b:\n",
    "#         if d[i] == 'x':\n",
    "#             x.append(i)\n",
    "#             i += 1\n",
    "#         elif d[i] == 'o':\n",
    "#             o.append(i)\n",
    "#             i += 1\n",
    "#     if x == z or o == z:\n",
    "#         status = 'x is the winner'\n",
    "#     res = display_board(b)\n",
    "#     return res, status\n",
    "    en = enumerate(board)\n",
    "#     it = next(en)\n",
    "    for s in range(len(board)):\n",
    "        val = board[s]\n",
    "        print(val[0])\n",
    "    \n",
    "    \n",
    "    \n",
    "    \n",
    "    \n",
    "    "
   ]
  },
  {
   "cell_type": "code",
   "execution_count": 79,
   "id": "efa6206e",
   "metadata": {},
   "outputs": [
    {
     "name": "stdout",
     "output_type": "stream",
     "text": [
      "#\n",
      " \n",
      " \n",
      " \n",
      " \n",
      " \n",
      "o\n",
      " \n",
      "o\n",
      " \n"
     ]
    }
   ],
   "source": [
    "place_marker(user_data,'x',6)\n",
    "\n",
    "\n",
    "\n"
   ]
  },
  {
   "cell_type": "code",
   "execution_count": 25,
   "id": "ceabeb27",
   "metadata": {},
   "outputs": [],
   "source": [
    "from IPython.display import clear_output\n",
    "def replay():\n",
    "    checker = False\n",
    "#     p1,p2 = player_input()\n",
    "    ia = player_choice()\n",
    "    i = 0\n",
    "    if ia:\n",
    "        player_input1 = 'x'\n",
    "        player_input2 = 'o'\n",
    "#         rest = place_marker(user_data,player_input1,ia)\n",
    "        while checker == False: \n",
    "            \n",
    "            if i % 2 == 0:\n",
    "                rest = place_marker(user_data,'o',ia)\n",
    "                ia = player_choice()       \n",
    "                print(rest)\n",
    "                i += 1\n",
    "                \n",
    "            else:\n",
    "                rest = place_marker(user_data,'x',ia)\n",
    "                ia = player_choice()\n",
    "                i += 1\n",
    "                print(rest)\n",
    "    "
   ]
  },
  {
   "cell_type": "code",
   "execution_count": 26,
   "id": "ee8a54d0",
   "metadata": {},
   "outputs": [
    {
     "name": "stdout",
     "output_type": "stream",
     "text": [
      "enter the number between 0 to 9  : 8\n"
     ]
    },
    {
     "ename": "IndexError",
     "evalue": "string index out of range",
     "output_type": "error",
     "traceback": [
      "\u001b[0;31m---------------------------------------------------------------------------\u001b[0m",
      "\u001b[0;31mIndexError\u001b[0m                                Traceback (most recent call last)",
      "\u001b[0;32m/var/folders/gn/7bs1h5012p1by63s10fb4bpw0000gn/T/ipykernel_1216/263319410.py\u001b[0m in \u001b[0;36m<module>\u001b[0;34m\u001b[0m\n\u001b[0;32m----> 1\u001b[0;31m \u001b[0mreplay\u001b[0m\u001b[0;34m(\u001b[0m\u001b[0;34m)\u001b[0m\u001b[0;34m\u001b[0m\u001b[0;34m\u001b[0m\u001b[0m\n\u001b[0m",
      "\u001b[0;32m/var/folders/gn/7bs1h5012p1by63s10fb4bpw0000gn/T/ipykernel_1216/4247575608.py\u001b[0m in \u001b[0;36mreplay\u001b[0;34m()\u001b[0m\n\u001b[1;32m     12\u001b[0m \u001b[0;34m\u001b[0m\u001b[0m\n\u001b[1;32m     13\u001b[0m             \u001b[0;32mif\u001b[0m \u001b[0mi\u001b[0m \u001b[0;34m%\u001b[0m \u001b[0;36m2\u001b[0m \u001b[0;34m==\u001b[0m \u001b[0;36m0\u001b[0m\u001b[0;34m:\u001b[0m\u001b[0;34m\u001b[0m\u001b[0;34m\u001b[0m\u001b[0m\n\u001b[0;32m---> 14\u001b[0;31m                 \u001b[0mrest\u001b[0m \u001b[0;34m=\u001b[0m \u001b[0mplace_marker\u001b[0m\u001b[0;34m(\u001b[0m\u001b[0muser_data\u001b[0m\u001b[0;34m,\u001b[0m\u001b[0;34m'o'\u001b[0m\u001b[0;34m,\u001b[0m\u001b[0mia\u001b[0m\u001b[0;34m)\u001b[0m\u001b[0;34m\u001b[0m\u001b[0;34m\u001b[0m\u001b[0m\n\u001b[0m\u001b[1;32m     15\u001b[0m                 \u001b[0mia\u001b[0m \u001b[0;34m=\u001b[0m \u001b[0mplayer_choice\u001b[0m\u001b[0;34m(\u001b[0m\u001b[0;34m)\u001b[0m\u001b[0;34m\u001b[0m\u001b[0;34m\u001b[0m\u001b[0m\n\u001b[1;32m     16\u001b[0m                 \u001b[0mprint\u001b[0m\u001b[0;34m(\u001b[0m\u001b[0mrest\u001b[0m\u001b[0;34m)\u001b[0m\u001b[0;34m\u001b[0m\u001b[0;34m\u001b[0m\u001b[0m\n",
      "\u001b[0;32m/var/folders/gn/7bs1h5012p1by63s10fb4bpw0000gn/T/ipykernel_1216/2313278968.py\u001b[0m in \u001b[0;36mplace_marker\u001b[0;34m(board, marker, position)\u001b[0m\n\u001b[1;32m     10\u001b[0m     \u001b[0mstatus\u001b[0m \u001b[0;34m=\u001b[0m \u001b[0;34m''\u001b[0m\u001b[0;34m\u001b[0m\u001b[0;34m\u001b[0m\u001b[0m\n\u001b[1;32m     11\u001b[0m     \u001b[0;32mfor\u001b[0m \u001b[0md\u001b[0m \u001b[0;32min\u001b[0m \u001b[0mb\u001b[0m\u001b[0;34m:\u001b[0m\u001b[0;34m\u001b[0m\u001b[0;34m\u001b[0m\u001b[0m\n\u001b[0;32m---> 12\u001b[0;31m         \u001b[0;32mif\u001b[0m \u001b[0md\u001b[0m\u001b[0;34m[\u001b[0m\u001b[0mi\u001b[0m\u001b[0;34m]\u001b[0m \u001b[0;34m==\u001b[0m \u001b[0;34m'x'\u001b[0m\u001b[0;34m:\u001b[0m\u001b[0;34m\u001b[0m\u001b[0;34m\u001b[0m\u001b[0m\n\u001b[0m\u001b[1;32m     13\u001b[0m             \u001b[0mx\u001b[0m\u001b[0;34m.\u001b[0m\u001b[0mappend\u001b[0m\u001b[0;34m(\u001b[0m\u001b[0mi\u001b[0m\u001b[0;34m)\u001b[0m\u001b[0;34m\u001b[0m\u001b[0;34m\u001b[0m\u001b[0m\n\u001b[1;32m     14\u001b[0m             \u001b[0mi\u001b[0m \u001b[0;34m+=\u001b[0m \u001b[0;36m1\u001b[0m\u001b[0;34m\u001b[0m\u001b[0;34m\u001b[0m\u001b[0m\n",
      "\u001b[0;31mIndexError\u001b[0m: string index out of range"
     ]
    }
   ],
   "source": [
    "replay()"
   ]
  },
  {
   "cell_type": "code",
   "execution_count": null,
   "id": "03ba821b",
   "metadata": {},
   "outputs": [],
   "source": []
  },
  {
   "cell_type": "code",
   "execution_count": null,
   "id": "81a0bc07",
   "metadata": {},
   "outputs": [],
   "source": []
  },
  {
   "cell_type": "code",
   "execution_count": null,
   "id": "83ffe382",
   "metadata": {},
   "outputs": [],
   "source": []
  }
 ],
 "metadata": {
  "kernelspec": {
   "display_name": "Python 3 (ipykernel)",
   "language": "python",
   "name": "python3"
  },
  "language_info": {
   "codemirror_mode": {
    "name": "ipython",
    "version": 3
   },
   "file_extension": ".py",
   "mimetype": "text/x-python",
   "name": "python",
   "nbconvert_exporter": "python",
   "pygments_lexer": "ipython3",
   "version": "3.9.7"
  }
 },
 "nbformat": 4,
 "nbformat_minor": 5
}
